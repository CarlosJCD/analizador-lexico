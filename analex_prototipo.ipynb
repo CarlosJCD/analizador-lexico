{
 "cells": [
  {
   "cell_type": "markdown",
   "id": "6dc63f39-eac3-4076-9572-d1802e4034f2",
   "metadata": {
    "pycharm": {
     "name": "#%% md\n"
    }
   },
   "source": [
    "# Analizador Lexico - Teoria de la computacion"
   ]
  },
  {
   "cell_type": "markdown",
   "id": "ddf5b254-5211-44b0-b765-918851a6d7cd",
   "metadata": {
    "pycharm": {
     "name": "#%% md\n"
    },
    "tags": []
   },
   "source": [
    "## Separar los tokens del documento \"prueba.mio\" en una lista"
   ]
  },
  {
   "cell_type": "code",
   "execution_count": 2,
   "id": "e5bae4c2-fcd0-4fce-a3f7-9d78a482d7c5",
   "metadata": {
    "pycharm": {
     "name": "#%%\n"
    }
   },
   "outputs": [],
   "source": [
    "filename = \"prueba.mio\""
   ]
  },
  {
   "cell_type": "code",
   "execution_count": 3,
   "id": "99fad1d4",
   "metadata": {
    "collapsed": false,
    "pycharm": {
     "name": "#%%\n"
    }
   },
   "outputs": [],
   "source": [
    "token_list = []\n",
    "with open(filename) as fp:\n",
    "    for line in fp:\n",
    "        if line[0] != \"#\":\n",
    "            token_list.append(line.split(\" \"))\n",
    "    fp.close()\n",
    "\n",
    "for linea in token_list:\n",
    "    if linea[-1] == \"\\n\":\n",
    "        linea.pop()\n",
    "    elif linea[-1][-1:] == \"\\n\":\n",
    "        linea[-1] = linea[-1][:-1]"
   ]
  },
  {
   "cell_type": "code",
   "execution_count": 4,
   "id": "e8d28bdd",
   "metadata": {
    "collapsed": false,
    "pycharm": {
     "name": "#%%\n"
    }
   },
   "outputs": [
    {
     "data": {
      "text/plain": [
       "[['PROGRAMA', 'prueba'],\n",
       " ['VarX', '=', '100'],\n",
       " ['VarY', '=', '0xA1'],\n",
       " ['LEE', 'Num'],\n",
       " ['VarZ', '=', 'VarY', '+', '0x1D'],\n",
       " ['VarX', '=', 'VarX', '*', 'Num'],\n",
       " ['IMPRIME', '\"Variable', 'X', 'es\"'],\n",
       " ['IMPRIME', 'VarX'],\n",
       " ['IMPRIME', '\"Varaible', 'Z', 'es\"'],\n",
       " ['IMPRIME', 'VarZ'],\n",
       " ['FINPROG']]"
      ]
     },
     "execution_count": 4,
     "metadata": {},
     "output_type": "execute_result"
    }
   ],
   "source": [
    "token_list"
   ]
  },
  {
   "cell_type": "markdown",
   "id": "8d12d167",
   "metadata": {
    "collapsed": false,
    "pycharm": {
     "name": "#%% md\n"
    }
   },
   "source": [
    "## Clasificando los tokens en token_list"
   ]
  },
  {
   "cell_type": "code",
   "execution_count": 5,
   "id": "a57eb59d",
   "metadata": {
    "collapsed": false,
    "pycharm": {
     "name": "#%%\n"
    }
   },
   "outputs": [],
   "source": [
    "IDS, TXT, VAL = [],[],[]"
   ]
  },
  {
   "cell_type": "code",
   "execution_count": 20,
   "id": "5a4bcd5f",
   "metadata": {
    "collapsed": false,
    "pycharm": {
     "name": "#%%\n"
    }
   },
   "outputs": [],
   "source": [
    "def esDecimal(token):\n",
    "    return token.isdigit()\n",
    "\n",
    "\n",
    "def esHexadecimal(token):\n",
    "    LETRAS = ['A','B','C','D','E','F']\n",
    "    DIGITOS = ['1','2','3','4','5','6','7','8','9','0']\n",
    "    if len(token) <= 2:\n",
    "        return False\n",
    "    if token[0:2] == \"0x\":\n",
    "        for char in token[2:]:\n",
    "            if (char not in LETRAS) and (char not in DIGITOS):\n",
    "                return False\n",
    "        return True\n",
    "\n",
    "def esVariable(token):\n",
    "    if len(token)>16 or token[0].isdigit() :\n",
    "        return False\n",
    "    return token.isalnum()\n",
    "\n",
    "def esString(token):\n",
    "    if token[0] == r'\"' and token[-1] == r'\"':\n",
    "        count = 0;\n",
    "        for char in token:\n",
    "            if char == '\"':\n",
    "                count+=1\n",
    "        if count != 2:\n",
    "           return False \n",
    "        else:\n",
    "            return True\n",
    "    return False\n",
    "        \n",
    "def esInicioString(token):\n",
    "    sub = '\"'\n",
    "    if token[0]!='\"' or sub in token[1:]:\n",
    "        return False\n",
    "    else:\n",
    "        return True\n",
    "\n",
    "def esFinalString(token):\n",
    "    sub = '\"'\n",
    "    if token[-1] != sub or sub in token[:-1]:\n",
    "        return False\n",
    "    return True\n",
    "\n",
    "def imprimeError(indiceLinea, token):\n",
    "    print(f\"Error en la linea {indiceLinea}: {token}\")"
   ]
  },
  {
   "cell_type": "code",
   "execution_count": 21,
   "id": "04935c5b",
   "metadata": {
    "collapsed": false,
    "pycharm": {
     "name": "#%%\n"
    }
   },
   "outputs": [],
   "source": [
    "def registrarIdentificador(token):\n",
    "    if len(IDS) == 0:\n",
    "        IDS.append([token, 'id01'])\n",
    "    else:\n",
    "        flag = True\n",
    "        for row in IDS:\n",
    "            if row[0] == token:\n",
    "                flag = False\n",
    "                break\n",
    "\n",
    "        if flag:\n",
    "            num_id = f\"{(len(IDS)+1)}\"\n",
    "            if len(num_id) == 1:\n",
    "                IDS.append([token, f\"id0{num_id}\"])\n",
    "            else:\n",
    "                IDS.append([token, f\"id{num_id}\"])                \n",
    "\n",
    "\n",
    "\n",
    "def registrarString(token: str):\n",
    "    if len(TXT) == 0:\n",
    "        TXT.append([token, 'txt01'])\n",
    "    else:\n",
    "        flag = True\n",
    "        for row in TXT:\n",
    "            if row[0] == token:\n",
    "                flag = False\n",
    "                break\n",
    "        \n",
    "        if flag:\n",
    "            num_id = f\"{(len(TXT)+1)}\"\n",
    "            if len(num_id) == 1:\n",
    "                TXT.append([token, f\"txt0{num_id}\"])\n",
    "            else:\n",
    "                TXT.append([token, f\"txt{num_id}\"])\n",
    "\n",
    "def registrarNum(token: str): \n",
    "    if token[0:2] == \"0x\":\n",
    "        VAL.append([token,int(token, base=16)])\n",
    "    else:\n",
    "        VAL.append([token,int(token)])\n",
    "\n"
   ]
  },
  {
   "cell_type": "code",
   "execution_count": 25,
   "id": "cd9f5582",
   "metadata": {
    "pycharm": {
     "name": "#%%\n"
    }
   },
   "outputs": [],
   "source": [
    "def analex():\n",
    "    PALABRAS_RESERVADAS = [\"PROGRAMA\",\"FINPROG\",\"IMPRIME\",\"LEE\"]\n",
    "    OPERADORES_ARITMETICOS = [\"+\",\"-\",\"*\",\"/\",\"=\"]\n",
    "    SALIDA = []\n",
    "    for indiceLinea, line in enumerate(token_list):\n",
    "        indiceToken=0\n",
    "        while indiceToken<len(line):\n",
    "            token = line[indiceToken]\n",
    "            finalizado = False\n",
    "            if token in PALABRAS_RESERVADAS:\n",
    "                SALIDA.append(token)\n",
    "                finalizado = True\n",
    "            elif token in OPERADORES_ARITMETICOS:\n",
    "                SALIDA.append(token)\n",
    "                finalizado = True\n",
    "            elif esDecimal(token) or esHexadecimal(token): # SI ES CONSTANTE NUMERICA\n",
    "                SALIDA.append(\"[valorn]\")\n",
    "                registrarNum(token)\n",
    "                finalizado = True\n",
    "            elif esVariable(token): # SI ES VARIABLE\n",
    "                SALIDA.append(\"[id]\")\n",
    "                registrarIdentificador(token)\n",
    "                finalizado = True\n",
    "            elif esString(token): # SI ES STRING \n",
    "                SALIDA.append(\"[litalfnum]\") #TODO: CONCATENAR VARIOS TOKENS EN UN STRING\n",
    "                finalizado = True\n",
    "            elif esInicioString(token):\n",
    "                stringReconstruido = token+\" \"\n",
    "                while indiceToken+1 < len(line):\n",
    "                    indiceToken+=1\n",
    "                    stringReconstruido += line[indiceToken]\n",
    "                    if esString(stringReconstruido):\n",
    "                        finalizado = True\n",
    "                        SALIDA.append(\"[litalfanum]\")\n",
    "                        registrarString(stringReconstruido)\n",
    "                        break\n",
    "                    stringReconstruido+=\" \"\n",
    "\n",
    "            if not finalizado:\n",
    "                imprimeError(indiceLinea, token)\n",
    "                return\n",
    "            else:\n",
    "                indiceToken+=1\n",
    "            \n",
    "    return SALIDA"
   ]
  },
  {
   "cell_type": "code",
   "execution_count": 26,
   "id": "3ebd8f86",
   "metadata": {
    "pycharm": {
     "name": "#%%\n"
    }
   },
   "outputs": [],
   "source": [
    "SALIDA = analex()"
   ]
  },
  {
   "cell_type": "code",
   "execution_count": 10,
   "id": "b932e234",
   "metadata": {
    "pycharm": {
     "name": "#%%\n"
    }
   },
   "outputs": [],
   "source": [
    "with open(\"prueba.lex\",\"w\") as fp:\n",
    "    for line in SALIDA:\n",
    "        fp.write(line+\"\\n\")\n",
    "    fp.close()"
   ]
  },
  {
   "cell_type": "code",
   "execution_count": 11,
   "id": "240c6239",
   "metadata": {
    "pycharm": {
     "name": "#%%\n"
    }
   },
   "outputs": [],
   "source": [
    "with open(\"factorial.sim\",\"w\") as fp:\n",
    "    fp.write(\"IDS\\n\")\n",
    "    for row in IDS:\n",
    "        fp.write(f\"{row[0]} {row[1]}\\n\")\n",
    "    \n",
    "    fp.write(\"\\nTXT\\n\")\n",
    "    for row in TXT:\n",
    "        fp.write(f\"{row[0]} {row[1]}\\n\")\n",
    "    \n",
    "    fp.write(\"\\nVAL\\n\")\n",
    "    for row in VAL:\n",
    "        fp.write(f\"{row[0]} {row[1]}\\n\")  \n",
    "    \n",
    "    fp.close()"
   ]
  },
  {
   "cell_type": "code",
   "execution_count": 24,
   "id": "894ad301",
   "metadata": {
    "pycharm": {
     "name": "#%%\n"
    }
   },
   "outputs": [
    {
     "data": {
      "text/plain": [
       "['PROGRAMA',\n",
       " '[id]',\n",
       " '[id]',\n",
       " '=',\n",
       " '[valorn]',\n",
       " '[id]',\n",
       " '=',\n",
       " '[valorn]',\n",
       " 'LEE',\n",
       " '[id]',\n",
       " '[id]',\n",
       " '=',\n",
       " '[id]',\n",
       " '+',\n",
       " '[valorn]',\n",
       " '[id]',\n",
       " '=',\n",
       " '[id]',\n",
       " '*',\n",
       " '[id]',\n",
       " 'IMPRIME',\n",
       " '[litalfanum]',\n",
       " 'IMPRIME',\n",
       " '[id]',\n",
       " 'IMPRIME',\n",
       " '[litalfanum]',\n",
       " 'IMPRIME',\n",
       " '[id]',\n",
       " 'FINPROG']"
      ]
     },
     "execution_count": 24,
     "metadata": {},
     "output_type": "execute_result"
    }
   ],
   "source": [
    "SALIDA"
   ]
  },
  {
   "cell_type": "code",
   "execution_count": 28,
   "id": "2a5394c9",
   "metadata": {},
   "outputs": [
    {
     "data": {
      "text/plain": [
       "[['\"Variable X es\"', 'txt01'], ['\"Varaible Z es\"', 'txt02']]"
      ]
     },
     "execution_count": 28,
     "metadata": {},
     "output_type": "execute_result"
    }
   ],
   "source": [
    "TXT"
   ]
  },
  {
   "cell_type": "markdown",
   "id": "2acdbe24",
   "metadata": {},
   "source": []
  },
  {
   "cell_type": "code",
   "execution_count": null,
   "id": "3b07fe5c",
   "metadata": {},
   "outputs": [],
   "source": []
  }
 ],
 "metadata": {
  "kernelspec": {
   "display_name": "Python 3.10.5 64-bit",
   "language": "python",
   "name": "python3"
  },
  "language_info": {
   "codemirror_mode": {
    "name": "ipython",
    "version": 3
   },
   "file_extension": ".py",
   "mimetype": "text/x-python",
   "name": "python",
   "nbconvert_exporter": "python",
   "pygments_lexer": "ipython3",
   "version": "3.10.5"
  },
  "vscode": {
   "interpreter": {
    "hash": "aee8b7b246df8f9039afb4144a1f6fd8d2ca17a180786b69acc140d282b71a49"
   }
  }
 },
 "nbformat": 4,
 "nbformat_minor": 5
}
